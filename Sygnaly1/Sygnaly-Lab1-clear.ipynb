{
 "cells": [
  {
   "cell_type": "markdown",
   "metadata": {},
   "source": [
    "# ZADANIE 1"
   ]
  },
  {
   "cell_type": "markdown",
   "metadata": {},
   "source": [
    "a) Wykonaj poniższy skrypt i przeanalizuj go:"
   ]
  },
  {
   "cell_type": "code",
   "execution_count": 20,
   "metadata": {},
   "outputs": [
    {
     "output_type": "display_data",
     "data": {
      "text/plain": "<Figure size 1200x480 with 2 Axes>",
      "image/svg+xml": "<?xml version=\"1.0\" encoding=\"utf-8\" standalone=\"no\"?>\n<!DOCTYPE svg PUBLIC \"-//W3C//DTD SVG 1.1//EN\"\n  \"http://www.w3.org/Graphics/SVG/1.1/DTD/svg11.dtd\">\n<!-- Created with matplotlib (https://matplotlib.org/) -->\n<svg height=\"361.037344pt\" version=\"1.1\" viewBox=\"0 0 889.045313 361.037344\" width=\"889.045313pt\" xmlns=\"http://www.w3.org/2000/svg\" xmlns:xlink=\"http://www.w3.org/1999/xlink\">\n <metadata>\n  <rdf:RDF xmlns:cc=\"http://creativecommons.org/ns#\" xmlns:dc=\"http://purl.org/dc/elements/1.1/\" xmlns:rdf=\"http://www.w3.org/1999/02/22-rdf-syntax-ns#\">\n   <cc:Work>\n    <dc:type rdf:resource=\"http://purl.org/dc/dcmitype/StillImage\"/>\n    <dc:date>2020-12-03T17:20:16.719105</dc:date>\n    <dc:format>image/svg+xml</dc:format>\n    <dc:creator>\n     <cc:Agent>\n      <dc:title>Matplotlib v3.3.3, https://matplotlib.org/</dc:title>\n     </cc:Agent>\n    </dc:creator>\n   </cc:Work>\n  </rdf:RDF>\n </metadata>\n <defs>\n  <style type=\"text/css\">*{stroke-linecap:butt;stroke-linejoin:round;}</style>\n </defs>\n <g id=\"figure_1\">\n  <g id=\"patch_1\">\n   <path d=\"M 0 361.037344 \nL 889.045313 361.037344 \nL 889.045313 0 \nL 0 0 \nz\n\" style=\"fill:none;\"/>\n  </g>\n  <g id=\"axes_1\">\n   <g id=\"patch_2\">\n    <path d=\"M 44.845313 337.159219 \nL 425.299858 337.159219 \nL 425.299858 10.999219 \nL 44.845313 10.999219 \nz\n\" style=\"fill:#ffffff;\"/>\n   </g>\n   <g id=\"matplotlib.axis_1\">\n    <g id=\"xtick_1\">\n     <g id=\"line2d_1\">\n      <defs>\n       <path d=\"M 0 0 \nL 0 3.5 \n\" id=\"m83c3e3f649\" style=\"stroke:#000000;stroke-width:0.8;\"/>\n      </defs>\n      <g>\n       <use style=\"stroke:#000000;stroke-width:0.8;\" x=\"62.138701\" xlink:href=\"#m83c3e3f649\" y=\"337.159219\"/>\n      </g>\n     </g>\n     <g id=\"text_1\">\n      <!-- 0.0 -->\n      <g transform=\"translate(54.187138 351.757656)scale(0.1 -0.1)\">\n       <defs>\n        <path d=\"M 31.78125 66.40625 \nQ 24.171875 66.40625 20.328125 58.90625 \nQ 16.5 51.421875 16.5 36.375 \nQ 16.5 21.390625 20.328125 13.890625 \nQ 24.171875 6.390625 31.78125 6.390625 \nQ 39.453125 6.390625 43.28125 13.890625 \nQ 47.125 21.390625 47.125 36.375 \nQ 47.125 51.421875 43.28125 58.90625 \nQ 39.453125 66.40625 31.78125 66.40625 \nz\nM 31.78125 74.21875 \nQ 44.046875 74.21875 50.515625 64.515625 \nQ 56.984375 54.828125 56.984375 36.375 \nQ 56.984375 17.96875 50.515625 8.265625 \nQ 44.046875 -1.421875 31.78125 -1.421875 \nQ 19.53125 -1.421875 13.0625 8.265625 \nQ 6.59375 17.96875 6.59375 36.375 \nQ 6.59375 54.828125 13.0625 64.515625 \nQ 19.53125 74.21875 31.78125 74.21875 \nz\n\" id=\"DejaVuSans-48\"/>\n        <path d=\"M 10.6875 12.40625 \nL 21 12.40625 \nL 21 0 \nL 10.6875 0 \nz\n\" id=\"DejaVuSans-46\"/>\n       </defs>\n       <use xlink:href=\"#DejaVuSans-48\"/>\n       <use x=\"63.623047\" xlink:href=\"#DejaVuSans-46\"/>\n       <use x=\"95.410156\" xlink:href=\"#DejaVuSans-48\"/>\n      </g>\n     </g>\n    </g>\n    <g id=\"xtick_2\">\n     <g id=\"line2d_2\">\n      <g>\n       <use style=\"stroke:#000000;stroke-width:0.8;\" x=\"132.010977\" xlink:href=\"#m83c3e3f649\" y=\"337.159219\"/>\n      </g>\n     </g>\n     <g id=\"text_2\">\n      <!-- 0.1 -->\n      <g transform=\"translate(124.059415 351.757656)scale(0.1 -0.1)\">\n       <defs>\n        <path d=\"M 12.40625 8.296875 \nL 28.515625 8.296875 \nL 28.515625 63.921875 \nL 10.984375 60.40625 \nL 10.984375 69.390625 \nL 28.421875 72.90625 \nL 38.28125 72.90625 \nL 38.28125 8.296875 \nL 54.390625 8.296875 \nL 54.390625 0 \nL 12.40625 0 \nz\n\" id=\"DejaVuSans-49\"/>\n       </defs>\n       <use xlink:href=\"#DejaVuSans-48\"/>\n       <use x=\"63.623047\" xlink:href=\"#DejaVuSans-46\"/>\n       <use x=\"95.410156\" xlink:href=\"#DejaVuSans-49\"/>\n      </g>\n     </g>\n    </g>\n    <g id=\"xtick_3\">\n     <g id=\"line2d_3\">\n      <g>\n       <use style=\"stroke:#000000;stroke-width:0.8;\" x=\"201.883254\" xlink:href=\"#m83c3e3f649\" y=\"337.159219\"/>\n      </g>\n     </g>\n     <g id=\"text_3\">\n      <!-- 0.2 -->\n      <g transform=\"translate(193.931691 351.757656)scale(0.1 -0.1)\">\n       <defs>\n        <path d=\"M 19.1875 8.296875 \nL 53.609375 8.296875 \nL 53.609375 0 \nL 7.328125 0 \nL 7.328125 8.296875 \nQ 12.9375 14.109375 22.625 23.890625 \nQ 32.328125 33.6875 34.8125 36.53125 \nQ 39.546875 41.84375 41.421875 45.53125 \nQ 43.3125 49.21875 43.3125 52.78125 \nQ 43.3125 58.59375 39.234375 62.25 \nQ 35.15625 65.921875 28.609375 65.921875 \nQ 23.96875 65.921875 18.8125 64.3125 \nQ 13.671875 62.703125 7.8125 59.421875 \nL 7.8125 69.390625 \nQ 13.765625 71.78125 18.9375 73 \nQ 24.125 74.21875 28.421875 74.21875 \nQ 39.75 74.21875 46.484375 68.546875 \nQ 53.21875 62.890625 53.21875 53.421875 \nQ 53.21875 48.921875 51.53125 44.890625 \nQ 49.859375 40.875 45.40625 35.40625 \nQ 44.1875 33.984375 37.640625 27.21875 \nQ 31.109375 20.453125 19.1875 8.296875 \nz\n\" id=\"DejaVuSans-50\"/>\n       </defs>\n       <use xlink:href=\"#DejaVuSans-48\"/>\n       <use x=\"63.623047\" xlink:href=\"#DejaVuSans-46\"/>\n       <use x=\"95.410156\" xlink:href=\"#DejaVuSans-50\"/>\n      </g>\n     </g>\n    </g>\n    <g id=\"xtick_4\">\n     <g id=\"line2d_4\">\n      <g>\n       <use style=\"stroke:#000000;stroke-width:0.8;\" x=\"271.75553\" xlink:href=\"#m83c3e3f649\" y=\"337.159219\"/>\n      </g>\n     </g>\n     <g id=\"text_4\">\n      <!-- 0.3 -->\n      <g transform=\"translate(263.803968 351.757656)scale(0.1 -0.1)\">\n       <defs>\n        <path d=\"M 40.578125 39.3125 \nQ 47.65625 37.796875 51.625 33 \nQ 55.609375 28.21875 55.609375 21.1875 \nQ 55.609375 10.40625 48.1875 4.484375 \nQ 40.765625 -1.421875 27.09375 -1.421875 \nQ 22.515625 -1.421875 17.65625 -0.515625 \nQ 12.796875 0.390625 7.625 2.203125 \nL 7.625 11.71875 \nQ 11.71875 9.328125 16.59375 8.109375 \nQ 21.484375 6.890625 26.8125 6.890625 \nQ 36.078125 6.890625 40.9375 10.546875 \nQ 45.796875 14.203125 45.796875 21.1875 \nQ 45.796875 27.640625 41.28125 31.265625 \nQ 36.765625 34.90625 28.71875 34.90625 \nL 20.21875 34.90625 \nL 20.21875 43.015625 \nL 29.109375 43.015625 \nQ 36.375 43.015625 40.234375 45.921875 \nQ 44.09375 48.828125 44.09375 54.296875 \nQ 44.09375 59.90625 40.109375 62.90625 \nQ 36.140625 65.921875 28.71875 65.921875 \nQ 24.65625 65.921875 20.015625 65.03125 \nQ 15.375 64.15625 9.8125 62.3125 \nL 9.8125 71.09375 \nQ 15.4375 72.65625 20.34375 73.4375 \nQ 25.25 74.21875 29.59375 74.21875 \nQ 40.828125 74.21875 47.359375 69.109375 \nQ 53.90625 64.015625 53.90625 55.328125 \nQ 53.90625 49.265625 50.4375 45.09375 \nQ 46.96875 40.921875 40.578125 39.3125 \nz\n\" id=\"DejaVuSans-51\"/>\n       </defs>\n       <use xlink:href=\"#DejaVuSans-48\"/>\n       <use x=\"63.623047\" xlink:href=\"#DejaVuSans-46\"/>\n       <use x=\"95.410156\" xlink:href=\"#DejaVuSans-51\"/>\n      </g>\n     </g>\n    </g>\n    <g id=\"xtick_5\">\n     <g id=\"line2d_5\">\n      <g>\n       <use style=\"stroke:#000000;stroke-width:0.8;\" x=\"341.627807\" xlink:href=\"#m83c3e3f649\" y=\"337.159219\"/>\n      </g>\n     </g>\n     <g id=\"text_5\">\n      <!-- 0.4 -->\n      <g transform=\"translate(333.676244 351.757656)scale(0.1 -0.1)\">\n       <defs>\n        <path d=\"M 37.796875 64.3125 \nL 12.890625 25.390625 \nL 37.796875 25.390625 \nz\nM 35.203125 72.90625 \nL 47.609375 72.90625 \nL 47.609375 25.390625 \nL 58.015625 25.390625 \nL 58.015625 17.1875 \nL 47.609375 17.1875 \nL 47.609375 0 \nL 37.796875 0 \nL 37.796875 17.1875 \nL 4.890625 17.1875 \nL 4.890625 26.703125 \nz\n\" id=\"DejaVuSans-52\"/>\n       </defs>\n       <use xlink:href=\"#DejaVuSans-48\"/>\n       <use x=\"63.623047\" xlink:href=\"#DejaVuSans-46\"/>\n       <use x=\"95.410156\" xlink:href=\"#DejaVuSans-52\"/>\n      </g>\n     </g>\n    </g>\n    <g id=\"xtick_6\">\n     <g id=\"line2d_6\">\n      <g>\n       <use style=\"stroke:#000000;stroke-width:0.8;\" x=\"411.500083\" xlink:href=\"#m83c3e3f649\" y=\"337.159219\"/>\n      </g>\n     </g>\n     <g id=\"text_6\">\n      <!-- 0.5 -->\n      <g transform=\"translate(403.548521 351.757656)scale(0.1 -0.1)\">\n       <defs>\n        <path d=\"M 10.796875 72.90625 \nL 49.515625 72.90625 \nL 49.515625 64.59375 \nL 19.828125 64.59375 \nL 19.828125 46.734375 \nQ 21.96875 47.46875 24.109375 47.828125 \nQ 26.265625 48.1875 28.421875 48.1875 \nQ 40.625 48.1875 47.75 41.5 \nQ 54.890625 34.8125 54.890625 23.390625 \nQ 54.890625 11.625 47.5625 5.09375 \nQ 40.234375 -1.421875 26.90625 -1.421875 \nQ 22.3125 -1.421875 17.546875 -0.640625 \nQ 12.796875 0.140625 7.71875 1.703125 \nL 7.71875 11.625 \nQ 12.109375 9.234375 16.796875 8.0625 \nQ 21.484375 6.890625 26.703125 6.890625 \nQ 35.15625 6.890625 40.078125 11.328125 \nQ 45.015625 15.765625 45.015625 23.390625 \nQ 45.015625 31 40.078125 35.4375 \nQ 35.15625 39.890625 26.703125 39.890625 \nQ 22.75 39.890625 18.8125 39.015625 \nQ 14.890625 38.140625 10.796875 36.28125 \nz\n\" id=\"DejaVuSans-53\"/>\n       </defs>\n       <use xlink:href=\"#DejaVuSans-48\"/>\n       <use x=\"63.623047\" xlink:href=\"#DejaVuSans-46\"/>\n       <use x=\"95.410156\" xlink:href=\"#DejaVuSans-53\"/>\n      </g>\n     </g>\n    </g>\n   </g>\n   <g id=\"matplotlib.axis_2\">\n    <g id=\"ytick_1\">\n     <g id=\"line2d_7\">\n      <defs>\n       <path d=\"M 0 0 \nL -3.5 0 \n\" id=\"m9457a95d37\" style=\"stroke:#000000;stroke-width:0.8;\"/>\n      </defs>\n      <g>\n       <use style=\"stroke:#000000;stroke-width:0.8;\" x=\"44.845313\" xlink:href=\"#m9457a95d37\" y=\"337.159219\"/>\n      </g>\n     </g>\n     <g id=\"text_7\">\n      <!-- −1.00 -->\n      <g transform=\"translate(7.2 340.958438)scale(0.1 -0.1)\">\n       <defs>\n        <path d=\"M 10.59375 35.5 \nL 73.1875 35.5 \nL 73.1875 27.203125 \nL 10.59375 27.203125 \nz\n\" id=\"DejaVuSans-8722\"/>\n       </defs>\n       <use xlink:href=\"#DejaVuSans-8722\"/>\n       <use x=\"83.789062\" xlink:href=\"#DejaVuSans-49\"/>\n       <use x=\"147.412109\" xlink:href=\"#DejaVuSans-46\"/>\n       <use x=\"179.199219\" xlink:href=\"#DejaVuSans-48\"/>\n       <use x=\"242.822266\" xlink:href=\"#DejaVuSans-48\"/>\n      </g>\n     </g>\n    </g>\n    <g id=\"ytick_2\">\n     <g id=\"line2d_8\">\n      <g>\n       <use style=\"stroke:#000000;stroke-width:0.8;\" x=\"44.845313\" xlink:href=\"#m9457a95d37\" y=\"296.389219\"/>\n      </g>\n     </g>\n     <g id=\"text_8\">\n      <!-- −0.75 -->\n      <g transform=\"translate(7.2 300.188438)scale(0.1 -0.1)\">\n       <defs>\n        <path d=\"M 8.203125 72.90625 \nL 55.078125 72.90625 \nL 55.078125 68.703125 \nL 28.609375 0 \nL 18.3125 0 \nL 43.21875 64.59375 \nL 8.203125 64.59375 \nz\n\" id=\"DejaVuSans-55\"/>\n       </defs>\n       <use xlink:href=\"#DejaVuSans-8722\"/>\n       <use x=\"83.789062\" xlink:href=\"#DejaVuSans-48\"/>\n       <use x=\"147.412109\" xlink:href=\"#DejaVuSans-46\"/>\n       <use x=\"179.199219\" xlink:href=\"#DejaVuSans-55\"/>\n       <use x=\"242.822266\" xlink:href=\"#DejaVuSans-53\"/>\n      </g>\n     </g>\n    </g>\n    <g id=\"ytick_3\">\n     <g id=\"line2d_9\">\n      <g>\n       <use style=\"stroke:#000000;stroke-width:0.8;\" x=\"44.845313\" xlink:href=\"#m9457a95d37\" y=\"255.619219\"/>\n      </g>\n     </g>\n     <g id=\"text_9\">\n      <!-- −0.50 -->\n      <g transform=\"translate(7.2 259.418438)scale(0.1 -0.1)\">\n       <use xlink:href=\"#DejaVuSans-8722\"/>\n       <use x=\"83.789062\" xlink:href=\"#DejaVuSans-48\"/>\n       <use x=\"147.412109\" xlink:href=\"#DejaVuSans-46\"/>\n       <use x=\"179.199219\" xlink:href=\"#DejaVuSans-53\"/>\n       <use x=\"242.822266\" xlink:href=\"#DejaVuSans-48\"/>\n      </g>\n     </g>\n    </g>\n    <g id=\"ytick_4\">\n     <g id=\"line2d_10\">\n      <g>\n       <use style=\"stroke:#000000;stroke-width:0.8;\" x=\"44.845313\" xlink:href=\"#m9457a95d37\" y=\"214.849219\"/>\n      </g>\n     </g>\n     <g id=\"text_10\">\n      <!-- −0.25 -->\n      <g transform=\"translate(7.2 218.648438)scale(0.1 -0.1)\">\n       <use xlink:href=\"#DejaVuSans-8722\"/>\n       <use x=\"83.789062\" xlink:href=\"#DejaVuSans-48\"/>\n       <use x=\"147.412109\" xlink:href=\"#DejaVuSans-46\"/>\n       <use x=\"179.199219\" xlink:href=\"#DejaVuSans-50\"/>\n       <use x=\"242.822266\" xlink:href=\"#DejaVuSans-53\"/>\n      </g>\n     </g>\n    </g>\n    <g id=\"ytick_5\">\n     <g id=\"line2d_11\">\n      <g>\n       <use style=\"stroke:#000000;stroke-width:0.8;\" x=\"44.845313\" xlink:href=\"#m9457a95d37\" y=\"174.079219\"/>\n      </g>\n     </g>\n     <g id=\"text_11\">\n      <!-- 0.00 -->\n      <g transform=\"translate(15.579688 177.878438)scale(0.1 -0.1)\">\n       <use xlink:href=\"#DejaVuSans-48\"/>\n       <use x=\"63.623047\" xlink:href=\"#DejaVuSans-46\"/>\n       <use x=\"95.410156\" xlink:href=\"#DejaVuSans-48\"/>\n       <use x=\"159.033203\" xlink:href=\"#DejaVuSans-48\"/>\n      </g>\n     </g>\n    </g>\n    <g id=\"ytick_6\">\n     <g id=\"line2d_12\">\n      <g>\n       <use style=\"stroke:#000000;stroke-width:0.8;\" x=\"44.845313\" xlink:href=\"#m9457a95d37\" y=\"133.309219\"/>\n      </g>\n     </g>\n     <g id=\"text_12\">\n      <!-- 0.25 -->\n      <g transform=\"translate(15.579688 137.108438)scale(0.1 -0.1)\">\n       <use xlink:href=\"#DejaVuSans-48\"/>\n       <use x=\"63.623047\" xlink:href=\"#DejaVuSans-46\"/>\n       <use x=\"95.410156\" xlink:href=\"#DejaVuSans-50\"/>\n       <use x=\"159.033203\" xlink:href=\"#DejaVuSans-53\"/>\n      </g>\n     </g>\n    </g>\n    <g id=\"ytick_7\">\n     <g id=\"line2d_13\">\n      <g>\n       <use style=\"stroke:#000000;stroke-width:0.8;\" x=\"44.845313\" xlink:href=\"#m9457a95d37\" y=\"92.539219\"/>\n      </g>\n     </g>\n     <g id=\"text_13\">\n      <!-- 0.50 -->\n      <g transform=\"translate(15.579688 96.338438)scale(0.1 -0.1)\">\n       <use xlink:href=\"#DejaVuSans-48\"/>\n       <use x=\"63.623047\" xlink:href=\"#DejaVuSans-46\"/>\n       <use x=\"95.410156\" xlink:href=\"#DejaVuSans-53\"/>\n       <use x=\"159.033203\" xlink:href=\"#DejaVuSans-48\"/>\n      </g>\n     </g>\n    </g>\n    <g id=\"ytick_8\">\n     <g id=\"line2d_14\">\n      <g>\n       <use style=\"stroke:#000000;stroke-width:0.8;\" x=\"44.845313\" xlink:href=\"#m9457a95d37\" y=\"51.769219\"/>\n      </g>\n     </g>\n     <g id=\"text_14\">\n      <!-- 0.75 -->\n      <g transform=\"translate(15.579688 55.568438)scale(0.1 -0.1)\">\n       <use xlink:href=\"#DejaVuSans-48\"/>\n       <use x=\"63.623047\" xlink:href=\"#DejaVuSans-46\"/>\n       <use x=\"95.410156\" xlink:href=\"#DejaVuSans-55\"/>\n       <use x=\"159.033203\" xlink:href=\"#DejaVuSans-53\"/>\n      </g>\n     </g>\n    </g>\n    <g id=\"ytick_9\">\n     <g id=\"line2d_15\">\n      <g>\n       <use style=\"stroke:#000000;stroke-width:0.8;\" x=\"44.845313\" xlink:href=\"#m9457a95d37\" y=\"10.999219\"/>\n      </g>\n     </g>\n     <g id=\"text_15\">\n      <!-- 1.00 -->\n      <g transform=\"translate(15.579688 14.798438)scale(0.1 -0.1)\">\n       <use xlink:href=\"#DejaVuSans-49\"/>\n       <use x=\"63.623047\" xlink:href=\"#DejaVuSans-46\"/>\n       <use x=\"95.410156\" xlink:href=\"#DejaVuSans-48\"/>\n       <use x=\"159.033203\" xlink:href=\"#DejaVuSans-48\"/>\n      </g>\n     </g>\n    </g>\n   </g>\n   <g id=\"line2d_16\">\n    <path clip-path=\"url(#p7676f8bc04)\" d=\"M 62.138701 174.079219 \nL 65.632315 163.839341 \nL 69.125929 153.639875 \nL 72.619542 143.521074 \nL 76.113156 133.522872 \nL 79.60677 123.684727 \nL 83.100384 114.045467 \nL 86.593998 104.643132 \nL 90.087612 95.51483 \nL 93.581225 86.696585 \nL 97.074839 78.2232 \nL 100.568453 70.128115 \nL 104.062067 62.443277 \nL 107.555681 55.199015 \nL 111.049294 48.423919 \nL 114.542908 42.144727 \nL 118.036522 36.386221 \nL 121.530136 31.171125 \nL 125.02375 26.520023 \nL 128.517364 22.451269 \nL 132.010977 18.980922 \nL 135.504591 16.122677 \nL 138.998205 13.887814 \nL 142.491819 12.285153 \nL 145.985433 11.32102 \nL 149.479047 10.999219 \nL 152.97266 11.32102 \nL 156.466274 12.285153 \nL 159.959888 13.887814 \nL 163.453502 16.122677 \nL 166.947116 18.980922 \nL 170.440729 22.451269 \nL 173.934343 26.520023 \nL 177.427957 31.171125 \nL 180.921571 36.386221 \nL 184.415185 42.144727 \nL 187.908799 48.423919 \nL 191.402412 55.199015 \nL 194.896026 62.443277 \nL 198.38964 70.128115 \nL 201.883254 78.2232 \nL 205.376868 86.696585 \nL 208.870482 95.51483 \nL 212.364095 104.643132 \nL 215.857709 114.045467 \nL 219.351323 123.684727 \nL 222.844937 133.522872 \nL 226.338551 143.521074 \nL 229.832164 153.639875 \nL 233.325778 163.839341 \nL 236.819392 174.079219 \nL 240.313006 184.319097 \nL 243.80662 194.518562 \nL 247.300234 204.637364 \nL 250.793847 214.635566 \nL 254.287461 224.47371 \nL 257.781075 234.112971 \nL 261.274689 243.515306 \nL 264.768303 252.643608 \nL 268.261917 261.461852 \nL 271.75553 269.935238 \nL 275.249144 278.030323 \nL 278.742758 285.715161 \nL 282.236372 292.959423 \nL 285.729986 299.734518 \nL 289.2236 306.01371 \nL 292.717213 311.772217 \nL 296.210827 316.987312 \nL 299.704441 321.638414 \nL 303.198055 325.707168 \nL 306.691669 329.177515 \nL 310.185282 332.035761 \nL 313.678896 334.270624 \nL 317.17251 335.873284 \nL 320.666124 336.837418 \nL 324.159738 337.159219 \nL 327.653352 336.837418 \nL 331.146965 335.873284 \nL 334.640579 334.270624 \nL 338.134193 332.035761 \nL 341.627807 329.177515 \nL 345.121421 325.707168 \nL 348.615035 321.638414 \nL 352.108648 316.987312 \nL 355.602262 311.772217 \nL 359.095876 306.01371 \nL 362.58949 299.734518 \nL 366.083104 292.959423 \nL 369.576717 285.715161 \nL 373.070331 278.030323 \nL 376.563945 269.935238 \nL 380.057559 261.461852 \nL 383.551173 252.643608 \nL 387.044787 243.515306 \nL 390.5384 234.112971 \nL 394.032014 224.47371 \nL 397.525628 214.635566 \nL 401.019242 204.637364 \nL 404.512856 194.518562 \nL 408.00647 184.319097 \n\" style=\"fill:none;stroke:#ff0000;stroke-linecap:square;stroke-width:1.5;\"/>\n   </g>\n   <g id=\"line2d_17\">\n    <defs>\n     <path d=\"M 0 3 \nC 0.795609 3 1.55874 2.683901 2.12132 2.12132 \nC 2.683901 1.55874 3 0.795609 3 0 \nC 3 -0.795609 2.683901 -1.55874 2.12132 -2.12132 \nC 1.55874 -2.683901 0.795609 -3 0 -3 \nC -0.795609 -3 -1.55874 -2.683901 -2.12132 -2.12132 \nC -2.683901 -1.55874 -3 -0.795609 -3 0 \nC -3 0.795609 -2.683901 1.55874 -2.12132 2.12132 \nC -1.55874 2.683901 -0.795609 3 0 3 \nz\n\" id=\"mb3e04c2fed\" style=\"stroke:#1f77b4;\"/>\n    </defs>\n    <g clip-path=\"url(#p7676f8bc04)\">\n     <use style=\"fill:#1f77b4;stroke:#1f77b4;\" x=\"62.138701\" xlink:href=\"#mb3e04c2fed\" y=\"174.079219\"/>\n     <use style=\"fill:#1f77b4;stroke:#1f77b4;\" x=\"79.60677\" xlink:href=\"#mb3e04c2fed\" y=\"123.684727\"/>\n     <use style=\"fill:#1f77b4;stroke:#1f77b4;\" x=\"97.074839\" xlink:href=\"#mb3e04c2fed\" y=\"78.2232\"/>\n     <use style=\"fill:#1f77b4;stroke:#1f77b4;\" x=\"114.542908\" xlink:href=\"#mb3e04c2fed\" y=\"42.144727\"/>\n     <use style=\"fill:#1f77b4;stroke:#1f77b4;\" x=\"132.010977\" xlink:href=\"#mb3e04c2fed\" y=\"18.980922\"/>\n     <use style=\"fill:#1f77b4;stroke:#1f77b4;\" x=\"149.479047\" xlink:href=\"#mb3e04c2fed\" y=\"10.999219\"/>\n     <use style=\"fill:#1f77b4;stroke:#1f77b4;\" x=\"166.947116\" xlink:href=\"#mb3e04c2fed\" y=\"18.980922\"/>\n     <use style=\"fill:#1f77b4;stroke:#1f77b4;\" x=\"184.415185\" xlink:href=\"#mb3e04c2fed\" y=\"42.144727\"/>\n     <use style=\"fill:#1f77b4;stroke:#1f77b4;\" x=\"201.883254\" xlink:href=\"#mb3e04c2fed\" y=\"78.2232\"/>\n     <use style=\"fill:#1f77b4;stroke:#1f77b4;\" x=\"219.351323\" xlink:href=\"#mb3e04c2fed\" y=\"123.684727\"/>\n     <use style=\"fill:#1f77b4;stroke:#1f77b4;\" x=\"236.819392\" xlink:href=\"#mb3e04c2fed\" y=\"174.079219\"/>\n     <use style=\"fill:#1f77b4;stroke:#1f77b4;\" x=\"254.287461\" xlink:href=\"#mb3e04c2fed\" y=\"224.47371\"/>\n     <use style=\"fill:#1f77b4;stroke:#1f77b4;\" x=\"271.75553\" xlink:href=\"#mb3e04c2fed\" y=\"269.935238\"/>\n     <use style=\"fill:#1f77b4;stroke:#1f77b4;\" x=\"289.2236\" xlink:href=\"#mb3e04c2fed\" y=\"306.01371\"/>\n     <use style=\"fill:#1f77b4;stroke:#1f77b4;\" x=\"306.691669\" xlink:href=\"#mb3e04c2fed\" y=\"329.177515\"/>\n     <use style=\"fill:#1f77b4;stroke:#1f77b4;\" x=\"324.159738\" xlink:href=\"#mb3e04c2fed\" y=\"337.159219\"/>\n     <use style=\"fill:#1f77b4;stroke:#1f77b4;\" x=\"341.627807\" xlink:href=\"#mb3e04c2fed\" y=\"329.177515\"/>\n     <use style=\"fill:#1f77b4;stroke:#1f77b4;\" x=\"359.095876\" xlink:href=\"#mb3e04c2fed\" y=\"306.01371\"/>\n     <use style=\"fill:#1f77b4;stroke:#1f77b4;\" x=\"376.563945\" xlink:href=\"#mb3e04c2fed\" y=\"269.935238\"/>\n     <use style=\"fill:#1f77b4;stroke:#1f77b4;\" x=\"394.032014\" xlink:href=\"#mb3e04c2fed\" y=\"224.47371\"/>\n    </g>\n   </g>\n   <g id=\"patch_3\">\n    <path d=\"M 44.845313 337.159219 \nL 44.845313 10.999219 \n\" style=\"fill:none;stroke:#000000;stroke-linecap:square;stroke-linejoin:miter;stroke-width:0.8;\"/>\n   </g>\n   <g id=\"patch_4\">\n    <path d=\"M 425.299858 337.159219 \nL 425.299858 10.999219 \n\" style=\"fill:none;stroke:#000000;stroke-linecap:square;stroke-linejoin:miter;stroke-width:0.8;\"/>\n   </g>\n   <g id=\"patch_5\">\n    <path d=\"M 44.845312 337.159219 \nL 425.299858 337.159219 \n\" style=\"fill:none;stroke:#000000;stroke-linecap:square;stroke-linejoin:miter;stroke-width:0.8;\"/>\n   </g>\n   <g id=\"patch_6\">\n    <path d=\"M 44.845312 10.999219 \nL 425.299858 10.999219 \n\" style=\"fill:none;stroke:#000000;stroke-linecap:square;stroke-linejoin:miter;stroke-width:0.8;\"/>\n   </g>\n  </g>\n  <g id=\"axes_2\">\n   <g id=\"patch_7\">\n    <path d=\"M 501.390767 337.159219 \nL 881.845312 337.159219 \nL 881.845312 10.999219 \nL 501.390767 10.999219 \nz\n\" style=\"fill:#ffffff;\"/>\n   </g>\n   <g id=\"matplotlib.axis_3\">\n    <g id=\"xtick_7\">\n     <g id=\"line2d_18\">\n      <g>\n       <use style=\"stroke:#000000;stroke-width:0.8;\" x=\"518.684155\" xlink:href=\"#m83c3e3f649\" y=\"337.159219\"/>\n      </g>\n     </g>\n     <g id=\"text_16\">\n      <!-- 0.0 -->\n      <g transform=\"translate(510.732593 351.757656)scale(0.1 -0.1)\">\n       <use xlink:href=\"#DejaVuSans-48\"/>\n       <use x=\"63.623047\" xlink:href=\"#DejaVuSans-46\"/>\n       <use x=\"95.410156\" xlink:href=\"#DejaVuSans-48\"/>\n      </g>\n     </g>\n    </g>\n    <g id=\"xtick_8\">\n     <g id=\"line2d_19\">\n      <g>\n       <use style=\"stroke:#000000;stroke-width:0.8;\" x=\"564.193072\" xlink:href=\"#m83c3e3f649\" y=\"337.159219\"/>\n      </g>\n     </g>\n     <g id=\"text_17\">\n      <!-- 2.5 -->\n      <g transform=\"translate(556.24151 351.757656)scale(0.1 -0.1)\">\n       <use xlink:href=\"#DejaVuSans-50\"/>\n       <use x=\"63.623047\" xlink:href=\"#DejaVuSans-46\"/>\n       <use x=\"95.410156\" xlink:href=\"#DejaVuSans-53\"/>\n      </g>\n     </g>\n    </g>\n    <g id=\"xtick_9\">\n     <g id=\"line2d_20\">\n      <g>\n       <use style=\"stroke:#000000;stroke-width:0.8;\" x=\"609.701989\" xlink:href=\"#m83c3e3f649\" y=\"337.159219\"/>\n      </g>\n     </g>\n     <g id=\"text_18\">\n      <!-- 5.0 -->\n      <g transform=\"translate(601.750427 351.757656)scale(0.1 -0.1)\">\n       <use xlink:href=\"#DejaVuSans-53\"/>\n       <use x=\"63.623047\" xlink:href=\"#DejaVuSans-46\"/>\n       <use x=\"95.410156\" xlink:href=\"#DejaVuSans-48\"/>\n      </g>\n     </g>\n    </g>\n    <g id=\"xtick_10\">\n     <g id=\"line2d_21\">\n      <g>\n       <use style=\"stroke:#000000;stroke-width:0.8;\" x=\"655.210906\" xlink:href=\"#m83c3e3f649\" y=\"337.159219\"/>\n      </g>\n     </g>\n     <g id=\"text_19\">\n      <!-- 7.5 -->\n      <g transform=\"translate(647.259344 351.757656)scale(0.1 -0.1)\">\n       <use xlink:href=\"#DejaVuSans-55\"/>\n       <use x=\"63.623047\" xlink:href=\"#DejaVuSans-46\"/>\n       <use x=\"95.410156\" xlink:href=\"#DejaVuSans-53\"/>\n      </g>\n     </g>\n    </g>\n    <g id=\"xtick_11\">\n     <g id=\"line2d_22\">\n      <g>\n       <use style=\"stroke:#000000;stroke-width:0.8;\" x=\"700.719823\" xlink:href=\"#m83c3e3f649\" y=\"337.159219\"/>\n      </g>\n     </g>\n     <g id=\"text_20\">\n      <!-- 10.0 -->\n      <g transform=\"translate(689.587011 351.757656)scale(0.1 -0.1)\">\n       <use xlink:href=\"#DejaVuSans-49\"/>\n       <use x=\"63.623047\" xlink:href=\"#DejaVuSans-48\"/>\n       <use x=\"127.246094\" xlink:href=\"#DejaVuSans-46\"/>\n       <use x=\"159.033203\" xlink:href=\"#DejaVuSans-48\"/>\n      </g>\n     </g>\n    </g>\n    <g id=\"xtick_12\">\n     <g id=\"line2d_23\">\n      <g>\n       <use style=\"stroke:#000000;stroke-width:0.8;\" x=\"746.22874\" xlink:href=\"#m83c3e3f649\" y=\"337.159219\"/>\n      </g>\n     </g>\n     <g id=\"text_21\">\n      <!-- 12.5 -->\n      <g transform=\"translate(735.095928 351.757656)scale(0.1 -0.1)\">\n       <use xlink:href=\"#DejaVuSans-49\"/>\n       <use x=\"63.623047\" xlink:href=\"#DejaVuSans-50\"/>\n       <use x=\"127.246094\" xlink:href=\"#DejaVuSans-46\"/>\n       <use x=\"159.033203\" xlink:href=\"#DejaVuSans-53\"/>\n      </g>\n     </g>\n    </g>\n    <g id=\"xtick_13\">\n     <g id=\"line2d_24\">\n      <g>\n       <use style=\"stroke:#000000;stroke-width:0.8;\" x=\"791.737657\" xlink:href=\"#m83c3e3f649\" y=\"337.159219\"/>\n      </g>\n     </g>\n     <g id=\"text_22\">\n      <!-- 15.0 -->\n      <g transform=\"translate(780.604844 351.757656)scale(0.1 -0.1)\">\n       <use xlink:href=\"#DejaVuSans-49\"/>\n       <use x=\"63.623047\" xlink:href=\"#DejaVuSans-53\"/>\n       <use x=\"127.246094\" xlink:href=\"#DejaVuSans-46\"/>\n       <use x=\"159.033203\" xlink:href=\"#DejaVuSans-48\"/>\n      </g>\n     </g>\n    </g>\n    <g id=\"xtick_14\">\n     <g id=\"line2d_25\">\n      <g>\n       <use style=\"stroke:#000000;stroke-width:0.8;\" x=\"837.246574\" xlink:href=\"#m83c3e3f649\" y=\"337.159219\"/>\n      </g>\n     </g>\n     <g id=\"text_23\">\n      <!-- 17.5 -->\n      <g transform=\"translate(826.113761 351.757656)scale(0.1 -0.1)\">\n       <use xlink:href=\"#DejaVuSans-49\"/>\n       <use x=\"63.623047\" xlink:href=\"#DejaVuSans-55\"/>\n       <use x=\"127.246094\" xlink:href=\"#DejaVuSans-46\"/>\n       <use x=\"159.033203\" xlink:href=\"#DejaVuSans-53\"/>\n      </g>\n     </g>\n    </g>\n   </g>\n   <g id=\"matplotlib.axis_4\">\n    <g id=\"ytick_10\">\n     <g id=\"line2d_26\">\n      <g>\n       <use style=\"stroke:#000000;stroke-width:0.8;\" x=\"501.390767\" xlink:href=\"#m9457a95d37\" y=\"337.159219\"/>\n      </g>\n     </g>\n     <g id=\"text_24\">\n      <!-- 0 -->\n      <g transform=\"translate(488.028267 340.958438)scale(0.1 -0.1)\">\n       <use xlink:href=\"#DejaVuSans-48\"/>\n      </g>\n     </g>\n    </g>\n    <g id=\"ytick_11\">\n     <g id=\"line2d_27\">\n      <g>\n       <use style=\"stroke:#000000;stroke-width:0.8;\" x=\"501.390767\" xlink:href=\"#m9457a95d37\" y=\"271.927219\"/>\n      </g>\n     </g>\n     <g id=\"text_25\">\n      <!-- 2 -->\n      <g transform=\"translate(488.028267 275.726438)scale(0.1 -0.1)\">\n       <use xlink:href=\"#DejaVuSans-50\"/>\n      </g>\n     </g>\n    </g>\n    <g id=\"ytick_12\">\n     <g id=\"line2d_28\">\n      <g>\n       <use style=\"stroke:#000000;stroke-width:0.8;\" x=\"501.390767\" xlink:href=\"#m9457a95d37\" y=\"206.695219\"/>\n      </g>\n     </g>\n     <g id=\"text_26\">\n      <!-- 4 -->\n      <g transform=\"translate(488.028267 210.494438)scale(0.1 -0.1)\">\n       <use xlink:href=\"#DejaVuSans-52\"/>\n      </g>\n     </g>\n    </g>\n    <g id=\"ytick_13\">\n     <g id=\"line2d_29\">\n      <g>\n       <use style=\"stroke:#000000;stroke-width:0.8;\" x=\"501.390767\" xlink:href=\"#m9457a95d37\" y=\"141.463219\"/>\n      </g>\n     </g>\n     <g id=\"text_27\">\n      <!-- 6 -->\n      <g transform=\"translate(488.028267 145.262438)scale(0.1 -0.1)\">\n       <defs>\n        <path d=\"M 33.015625 40.375 \nQ 26.375 40.375 22.484375 35.828125 \nQ 18.609375 31.296875 18.609375 23.390625 \nQ 18.609375 15.53125 22.484375 10.953125 \nQ 26.375 6.390625 33.015625 6.390625 \nQ 39.65625 6.390625 43.53125 10.953125 \nQ 47.40625 15.53125 47.40625 23.390625 \nQ 47.40625 31.296875 43.53125 35.828125 \nQ 39.65625 40.375 33.015625 40.375 \nz\nM 52.59375 71.296875 \nL 52.59375 62.3125 \nQ 48.875 64.0625 45.09375 64.984375 \nQ 41.3125 65.921875 37.59375 65.921875 \nQ 27.828125 65.921875 22.671875 59.328125 \nQ 17.53125 52.734375 16.796875 39.40625 \nQ 19.671875 43.65625 24.015625 45.921875 \nQ 28.375 48.1875 33.59375 48.1875 \nQ 44.578125 48.1875 50.953125 41.515625 \nQ 57.328125 34.859375 57.328125 23.390625 \nQ 57.328125 12.15625 50.6875 5.359375 \nQ 44.046875 -1.421875 33.015625 -1.421875 \nQ 20.359375 -1.421875 13.671875 8.265625 \nQ 6.984375 17.96875 6.984375 36.375 \nQ 6.984375 53.65625 15.1875 63.9375 \nQ 23.390625 74.21875 37.203125 74.21875 \nQ 40.921875 74.21875 44.703125 73.484375 \nQ 48.484375 72.75 52.59375 71.296875 \nz\n\" id=\"DejaVuSans-54\"/>\n       </defs>\n       <use xlink:href=\"#DejaVuSans-54\"/>\n      </g>\n     </g>\n    </g>\n    <g id=\"ytick_14\">\n     <g id=\"line2d_30\">\n      <g>\n       <use style=\"stroke:#000000;stroke-width:0.8;\" x=\"501.390767\" xlink:href=\"#m9457a95d37\" y=\"76.231219\"/>\n      </g>\n     </g>\n     <g id=\"text_28\">\n      <!-- 8 -->\n      <g transform=\"translate(488.028267 80.030438)scale(0.1 -0.1)\">\n       <defs>\n        <path d=\"M 31.78125 34.625 \nQ 24.75 34.625 20.71875 30.859375 \nQ 16.703125 27.09375 16.703125 20.515625 \nQ 16.703125 13.921875 20.71875 10.15625 \nQ 24.75 6.390625 31.78125 6.390625 \nQ 38.8125 6.390625 42.859375 10.171875 \nQ 46.921875 13.96875 46.921875 20.515625 \nQ 46.921875 27.09375 42.890625 30.859375 \nQ 38.875 34.625 31.78125 34.625 \nz\nM 21.921875 38.8125 \nQ 15.578125 40.375 12.03125 44.71875 \nQ 8.5 49.078125 8.5 55.328125 \nQ 8.5 64.0625 14.71875 69.140625 \nQ 20.953125 74.21875 31.78125 74.21875 \nQ 42.671875 74.21875 48.875 69.140625 \nQ 55.078125 64.0625 55.078125 55.328125 \nQ 55.078125 49.078125 51.53125 44.71875 \nQ 48 40.375 41.703125 38.8125 \nQ 48.828125 37.15625 52.796875 32.3125 \nQ 56.78125 27.484375 56.78125 20.515625 \nQ 56.78125 9.90625 50.3125 4.234375 \nQ 43.84375 -1.421875 31.78125 -1.421875 \nQ 19.734375 -1.421875 13.25 4.234375 \nQ 6.78125 9.90625 6.78125 20.515625 \nQ 6.78125 27.484375 10.78125 32.3125 \nQ 14.796875 37.15625 21.921875 38.8125 \nz\nM 18.3125 54.390625 \nQ 18.3125 48.734375 21.84375 45.5625 \nQ 25.390625 42.390625 31.78125 42.390625 \nQ 38.140625 42.390625 41.71875 45.5625 \nQ 45.3125 48.734375 45.3125 54.390625 \nQ 45.3125 60.0625 41.71875 63.234375 \nQ 38.140625 66.40625 31.78125 66.40625 \nQ 25.390625 66.40625 21.84375 63.234375 \nQ 18.3125 60.0625 18.3125 54.390625 \nz\n\" id=\"DejaVuSans-56\"/>\n       </defs>\n       <use xlink:href=\"#DejaVuSans-56\"/>\n      </g>\n     </g>\n    </g>\n    <g id=\"ytick_15\">\n     <g id=\"line2d_31\">\n      <g>\n       <use style=\"stroke:#000000;stroke-width:0.8;\" x=\"501.390767\" xlink:href=\"#m9457a95d37\" y=\"10.999219\"/>\n      </g>\n     </g>\n     <g id=\"text_29\">\n      <!-- 10 -->\n      <g transform=\"translate(481.665767 14.798438)scale(0.1 -0.1)\">\n       <use xlink:href=\"#DejaVuSans-49\"/>\n       <use x=\"63.623047\" xlink:href=\"#DejaVuSans-48\"/>\n      </g>\n     </g>\n    </g>\n   </g>\n   <g id=\"LineCollection_1\">\n    <path clip-path=\"url(#pcec482dbfe)\" d=\"M 518.684155 337.159219 \nL 518.684155 337.159219 \n\" style=\"fill:none;stroke:#1f77b4;stroke-width:1.5;\"/>\n    <path clip-path=\"url(#pcec482dbfe)\" d=\"M 536.887722 337.159219 \nL 536.887722 10.999219 \n\" style=\"fill:none;stroke:#1f77b4;stroke-width:1.5;\"/>\n    <path clip-path=\"url(#pcec482dbfe)\" d=\"M 555.091289 337.159219 \nL 555.091289 337.159219 \n\" style=\"fill:none;stroke:#1f77b4;stroke-width:1.5;\"/>\n    <path clip-path=\"url(#pcec482dbfe)\" d=\"M 573.294856 337.159219 \nL 573.294856 337.159219 \n\" style=\"fill:none;stroke:#1f77b4;stroke-width:1.5;\"/>\n    <path clip-path=\"url(#pcec482dbfe)\" d=\"M 591.498423 337.159219 \nL 591.498423 337.159219 \n\" style=\"fill:none;stroke:#1f77b4;stroke-width:1.5;\"/>\n    <path clip-path=\"url(#pcec482dbfe)\" d=\"M 609.701989 337.159219 \nL 609.701989 337.159219 \n\" style=\"fill:none;stroke:#1f77b4;stroke-width:1.5;\"/>\n    <path clip-path=\"url(#pcec482dbfe)\" d=\"M 627.905556 337.159219 \nL 627.905556 337.159219 \n\" style=\"fill:none;stroke:#1f77b4;stroke-width:1.5;\"/>\n    <path clip-path=\"url(#pcec482dbfe)\" d=\"M 646.109123 337.159219 \nL 646.109123 337.159219 \n\" style=\"fill:none;stroke:#1f77b4;stroke-width:1.5;\"/>\n    <path clip-path=\"url(#pcec482dbfe)\" d=\"M 664.31269 337.159219 \nL 664.31269 337.159219 \n\" style=\"fill:none;stroke:#1f77b4;stroke-width:1.5;\"/>\n    <path clip-path=\"url(#pcec482dbfe)\" d=\"M 682.516256 337.159219 \nL 682.516256 337.159219 \n\" style=\"fill:none;stroke:#1f77b4;stroke-width:1.5;\"/>\n    <path clip-path=\"url(#pcec482dbfe)\" d=\"M 700.719823 337.159219 \nL 700.719823 337.159219 \n\" style=\"fill:none;stroke:#1f77b4;stroke-width:1.5;\"/>\n    <path clip-path=\"url(#pcec482dbfe)\" d=\"M 718.92339 337.159219 \nL 718.92339 337.159219 \n\" style=\"fill:none;stroke:#1f77b4;stroke-width:1.5;\"/>\n    <path clip-path=\"url(#pcec482dbfe)\" d=\"M 737.126957 337.159219 \nL 737.126957 337.159219 \n\" style=\"fill:none;stroke:#1f77b4;stroke-width:1.5;\"/>\n    <path clip-path=\"url(#pcec482dbfe)\" d=\"M 755.330523 337.159219 \nL 755.330523 337.159219 \n\" style=\"fill:none;stroke:#1f77b4;stroke-width:1.5;\"/>\n    <path clip-path=\"url(#pcec482dbfe)\" d=\"M 773.53409 337.159219 \nL 773.53409 337.159219 \n\" style=\"fill:none;stroke:#1f77b4;stroke-width:1.5;\"/>\n    <path clip-path=\"url(#pcec482dbfe)\" d=\"M 791.737657 337.159219 \nL 791.737657 337.159219 \n\" style=\"fill:none;stroke:#1f77b4;stroke-width:1.5;\"/>\n    <path clip-path=\"url(#pcec482dbfe)\" d=\"M 809.941224 337.159219 \nL 809.941224 337.159219 \n\" style=\"fill:none;stroke:#1f77b4;stroke-width:1.5;\"/>\n    <path clip-path=\"url(#pcec482dbfe)\" d=\"M 828.144791 337.159219 \nL 828.144791 337.159219 \n\" style=\"fill:none;stroke:#1f77b4;stroke-width:1.5;\"/>\n    <path clip-path=\"url(#pcec482dbfe)\" d=\"M 846.348357 337.159219 \nL 846.348357 337.159219 \n\" style=\"fill:none;stroke:#1f77b4;stroke-width:1.5;\"/>\n    <path clip-path=\"url(#pcec482dbfe)\" d=\"M 864.551924 337.159219 \nL 864.551924 10.999219 \n\" style=\"fill:none;stroke:#1f77b4;stroke-width:1.5;\"/>\n   </g>\n   <g id=\"line2d_32\">\n    <g clip-path=\"url(#pcec482dbfe)\">\n     <use style=\"fill:#1f77b4;stroke:#1f77b4;\" x=\"518.684155\" xlink:href=\"#mb3e04c2fed\" y=\"337.159219\"/>\n     <use style=\"fill:#1f77b4;stroke:#1f77b4;\" x=\"536.887722\" xlink:href=\"#mb3e04c2fed\" y=\"10.999219\"/>\n     <use style=\"fill:#1f77b4;stroke:#1f77b4;\" x=\"555.091289\" xlink:href=\"#mb3e04c2fed\" y=\"337.159219\"/>\n     <use style=\"fill:#1f77b4;stroke:#1f77b4;\" x=\"573.294856\" xlink:href=\"#mb3e04c2fed\" y=\"337.159219\"/>\n     <use style=\"fill:#1f77b4;stroke:#1f77b4;\" x=\"591.498423\" xlink:href=\"#mb3e04c2fed\" y=\"337.159219\"/>\n     <use style=\"fill:#1f77b4;stroke:#1f77b4;\" x=\"609.701989\" xlink:href=\"#mb3e04c2fed\" y=\"337.159219\"/>\n     <use style=\"fill:#1f77b4;stroke:#1f77b4;\" x=\"627.905556\" xlink:href=\"#mb3e04c2fed\" y=\"337.159219\"/>\n     <use style=\"fill:#1f77b4;stroke:#1f77b4;\" x=\"646.109123\" xlink:href=\"#mb3e04c2fed\" y=\"337.159219\"/>\n     <use style=\"fill:#1f77b4;stroke:#1f77b4;\" x=\"664.31269\" xlink:href=\"#mb3e04c2fed\" y=\"337.159219\"/>\n     <use style=\"fill:#1f77b4;stroke:#1f77b4;\" x=\"682.516256\" xlink:href=\"#mb3e04c2fed\" y=\"337.159219\"/>\n     <use style=\"fill:#1f77b4;stroke:#1f77b4;\" x=\"700.719823\" xlink:href=\"#mb3e04c2fed\" y=\"337.159219\"/>\n     <use style=\"fill:#1f77b4;stroke:#1f77b4;\" x=\"718.92339\" xlink:href=\"#mb3e04c2fed\" y=\"337.159219\"/>\n     <use style=\"fill:#1f77b4;stroke:#1f77b4;\" x=\"737.126957\" xlink:href=\"#mb3e04c2fed\" y=\"337.159219\"/>\n     <use style=\"fill:#1f77b4;stroke:#1f77b4;\" x=\"755.330523\" xlink:href=\"#mb3e04c2fed\" y=\"337.159219\"/>\n     <use style=\"fill:#1f77b4;stroke:#1f77b4;\" x=\"773.53409\" xlink:href=\"#mb3e04c2fed\" y=\"337.159219\"/>\n     <use style=\"fill:#1f77b4;stroke:#1f77b4;\" x=\"791.737657\" xlink:href=\"#mb3e04c2fed\" y=\"337.159219\"/>\n     <use style=\"fill:#1f77b4;stroke:#1f77b4;\" x=\"809.941224\" xlink:href=\"#mb3e04c2fed\" y=\"337.159219\"/>\n     <use style=\"fill:#1f77b4;stroke:#1f77b4;\" x=\"828.144791\" xlink:href=\"#mb3e04c2fed\" y=\"337.159219\"/>\n     <use style=\"fill:#1f77b4;stroke:#1f77b4;\" x=\"846.348357\" xlink:href=\"#mb3e04c2fed\" y=\"337.159219\"/>\n     <use style=\"fill:#1f77b4;stroke:#1f77b4;\" x=\"864.551924\" xlink:href=\"#mb3e04c2fed\" y=\"10.999219\"/>\n    </g>\n   </g>\n   <g id=\"line2d_33\">\n    <path clip-path=\"url(#pcec482dbfe)\" d=\"M 518.684155 337.159219 \nL 864.551924 337.159219 \n\" style=\"fill:none;stroke:#d62728;stroke-linecap:square;stroke-width:1.5;\"/>\n   </g>\n   <g id=\"patch_8\">\n    <path d=\"M 501.390767 337.159219 \nL 501.390767 10.999219 \n\" style=\"fill:none;stroke:#000000;stroke-linecap:square;stroke-linejoin:miter;stroke-width:0.8;\"/>\n   </g>\n   <g id=\"patch_9\">\n    <path d=\"M 881.845312 337.159219 \nL 881.845312 10.999219 \n\" style=\"fill:none;stroke:#000000;stroke-linecap:square;stroke-linejoin:miter;stroke-width:0.8;\"/>\n   </g>\n   <g id=\"patch_10\">\n    <path d=\"M 501.390767 337.159219 \nL 881.845312 337.159219 \n\" style=\"fill:none;stroke:#000000;stroke-linecap:square;stroke-linejoin:miter;stroke-width:0.8;\"/>\n   </g>\n   <g id=\"patch_11\">\n    <path d=\"M 501.390767 10.999219 \nL 881.845312 10.999219 \n\" style=\"fill:none;stroke:#000000;stroke-linecap:square;stroke-linejoin:miter;stroke-width:0.8;\"/>\n   </g>\n  </g>\n </g>\n <defs>\n  <clipPath id=\"p7676f8bc04\">\n   <rect height=\"326.16\" width=\"380.454545\" x=\"44.845313\" y=\"10.999219\"/>\n  </clipPath>\n  <clipPath id=\"pcec482dbfe\">\n   <rect height=\"326.16\" width=\"380.454545\" x=\"501.390767\" y=\"10.999219\"/>\n  </clipPath>\n </defs>\n</svg>\n",
      "image/png": "[encoded data removed]"
     },
     "metadata": {
      "needs_background": "light"
     }
    }
   ],
   "source": [
    "from __future__ import division\n",
    "from pylab import *\n",
    "from numpy import *\n",
    "from scipy import *\n",
    "from ipywidgets import *\n",
    "import math as mt\n",
    "\n",
    "%matplotlib inline\n",
    "\n",
    "A = 1\n",
    "# Amplituda sygnału\n",
    "\n",
    "LP = 1 \n",
    "# Liczba analizowanych pełnych przebiegów sygnału (okresów)\n",
    "w = 40           \n",
    "# czśstotliwość probkowania [Hz] sygnału \n",
    "#(jak często w ciągu sekundy pobieramy informacje o wartości sygnału)\n",
    "\n",
    "f = 2.0           \n",
    "# Czestotliwosc sygnalu [Hz]\n",
    "\n",
    "T = 1.0/f        \n",
    "# Okres sygnalu [s] (jak długo trwa jeden przebieg sinusa)\n",
    "\n",
    "TW = 1.0/w        \n",
    "# Okres probkowania [s] (co ile sekund pobieramy próbkę)\n",
    "\n",
    "t = np.arange(0, LP*T, TW)\n",
    "# generujemy momenty, w których pobieramy próbki\n",
    "\n",
    "n = len(t)\n",
    "    \n",
    "FUNC = lambda t : A*sin(2*pi*t*f)    \n",
    "# def. funkcji (tutaj sinus)\n",
    "\n",
    "signal = FUNC(t)                 \n",
    "# funkcja sprobkowana\n",
    "\n",
    "fig = plt.figure(figsize=(15, 6), dpi=80)   \n",
    "ax = fig.add_subplot(121)\n",
    "## --- POMOCNICZY SYGNAL\n",
    "base_t = np.arange(0, LP*T, 1.0/200.0)\n",
    "base_signal = FUNC(base_t)\n",
    "ax.plot(base_t, base_signal, linestyle='-', color='red')\n",
    "ax.set_ylim([min(base_signal), max(base_signal)])\n",
    "## --- \n",
    "ax.plot(t, signal, 'o')\n",
    "\n",
    "signal1 = fft(signal)\n",
    "# sygnal w dziedzinie czestotliwosci \n",
    "signal1 = abs(signal1)        \n",
    "# modul sygnalu\n",
    "\n",
    "freqs = range(int(n))\n",
    "\n",
    "\n",
    "ax = fig.add_subplot(122)\n",
    "ymax = max(signal1)\n",
    "if (ymax > 3.0):\n",
    "    ax.set_ylim([0.0,ymax])\n",
    "else:\n",
    "    ax.set_ylim([0.0,3.0])\n",
    "stem(freqs, signal1, '-*')\n",
    "\n",
    "show()"
   ]
  },
  {
   "cell_type": "markdown",
   "metadata": {},
   "source": [
    "UWAGA: do dalszych ćwiczeń warto powyższy skrypt przekształcić na funkcję o wielu argumentach, typu: amplituda, częstotliwość próbkowania, liczba przebiegów. Oczywiście dla wygody, należy nadać wartości domyślne argumentom funkcji. #DONE"
   ]
  },
  {
   "cell_type": "code",
   "execution_count": 26,
   "metadata": {
    "collapsed": true
   },
   "outputs": [],
   "source": [
    "# Zdefiniuj funckję\n",
    "def many_arguments(A = 1,w = 40,LP = 1):\n",
    "\n",
    "    f = 2.0           \n",
    "    # Czestotliwosc sygnalu [Hz]\n",
    "\n",
    "    T = 1.0/f        \n",
    "    # Okres sygnalu [s] (jak długo trwa jeden przebieg sinusa)\n",
    "\n",
    "    TW = 1.0/w        \n",
    "    # Okres probkowania [s] (co ile sekund pobieramy próbkę)\n",
    "\n",
    "    t = np.arange(0, LP*T, TW)\n",
    "    # generujemy momenty, w których pobieramy próbki\n",
    "\n",
    "    n = len(t)\n",
    "        \n",
    "    FUNC = lambda t : A*sin(2*pi*t*f) \n",
    "    # def. funkcji (tutaj sinus)\n",
    "\n",
    "    signal = FUNC(t)                 \n",
    "    # funkcja sprobkowana\n",
    "\n",
    "    fig = plt.figure(figsize=(15, 6), dpi=80)   \n",
    "    ax = fig.add_subplot(121)\n",
    "    ## --- POMOCNICZY SYGNAL\n",
    "    base_t = np.arange(0, LP*T, 1.0/200.0)\n",
    "    base_signal = FUNC(base_t)\n",
    "    ax.plot(base_t, base_signal, linestyle='-', color='red')\n",
    "    ax.set_ylim([min(base_signal), max(base_signal)])\n",
    "    xlabel('t[s]')\n",
    "    ylabel('y(t)[j]')\n",
    "    ## --- \n",
    "    ax.plot(t, signal, 'o')\n",
    "\n",
    "    signal1 = fft(signal)\n",
    "    # sygnal w dziedzinie czestotliwosci \n",
    "    signal1 = abs(signal1)        \n",
    "    # modul sygnalu\n",
    "\n",
    "    freqs = range(int(n))\n",
    "\n",
    "\n",
    "    ax = fig.add_subplot(122)\n",
    "    xlabel('f[Hz]')\n",
    "    ylabel('A[j]')\n",
    "    ymax = max(signal1)\n",
    "    if (ymax > 3.0):\n",
    "        ax.set_ylim([0.0,ymax])\n",
    "    else:\n",
    "        ax.set_ylim([0.0,3.0])\n",
    "    stem(freqs, signal1, '-*')\n",
    "\n",
    "    show()"
   ]
  },
  {
   "cell_type": "markdown",
   "metadata": {},
   "source": [
    "UWAGA DLA CHĘTNYCH: można wykorzystać 'interact', dzięki któremu można zmieniac parametry danej funkcji i na bieżąco obserwować zmiany. Poniższy kod przedstawia sposób wykorzystania interact: #DONE"
   ]
  },
  {
   "cell_type": "code",
   "execution_count": 7,
   "metadata": {},
   "outputs": [
    {
     "output_type": "display_data",
     "data": {
      "text/plain": "interactive(children=(FloatSlider(value=1.0, description='A', max=2.5, min=0.5), IntSlider(value=40, descripti…",
      "application/vnd.jupyter.widget-view+json": {
       "version_major": 2,
       "version_minor": 0,
       "model_id": "13add386a3b2471aa4ce44a70f8a4705"
      }
     },
     "metadata": {}
    },
    {
     "output_type": "execute_result",
     "data": {
      "text/plain": [
       "<function __main__.many_arguments(A=1, w=40, LP=1)>"
      ]
     },
     "metadata": {},
     "execution_count": 7
    }
   ],
   "source": [
    "interact(many_arguments, A=(0.5,2.5,0.1),w=(0, 100,1),LP=(0.25,10,0.25))"
   ]
  },
  {
   "cell_type": "markdown",
   "metadata": {},
   "source": [
    "b) Zmień częstotliwość próbkowania na 50Hz. #DONE"
   ]
  },
  {
   "cell_type": "code",
   "execution_count": 8,
   "metadata": {
    "collapsed": true
   },
   "outputs": [
    {
     "output_type": "display_data",
     "data": {
      "text/plain": "interactive(children=(FloatSlider(value=1.0, description='A', max=2.5, min=0.5), IntSlider(value=40, descripti…",
      "application/vnd.jupyter.widget-view+json": {
       "version_major": 2,
       "version_minor": 0,
       "model_id": "b1188417963f4f1a911e11a571c28cc7"
      }
     },
     "metadata": {}
    },
    {
     "output_type": "execute_result",
     "data": {
      "text/plain": [
       "<function __main__.many_arguments(A=1, w=40, LP=1)>"
      ]
     },
     "metadata": {},
     "execution_count": 8
    }
   ],
   "source": [
    "# w=50\n",
    "interact(many_arguments, A=(0.5,2.5,0.1),w=(0, 100,1),LP=(0.25,10,0.25))"
   ]
  },
  {
   "cell_type": "markdown",
   "metadata": {},
   "source": [
    "c) Punkty na osi OX spektrum są teraz kolejnymi liczbami naturalnymi, a nie częstotliwościami w Hz. Popraw skrypt (funkcje), tak aby oś OX spektrum była w Hz (podpowiedź: oś OX rozpoczyna się od 0Hz, a kończy się na (prawie!)  Hz, gdzie  jest częstotliwością próbkowania). Następnie: Upewnij się, że spektrum dla 1Hz-owego sinusa i pięciu (LP=5) analizowanych przebiegów wygląda teraz prawidłowo."
   ]
  },
  {
   "cell_type": "code",
   "execution_count": 15,
   "metadata": {
    "collapsed": true
   },
   "outputs": [
    {
     "output_type": "display_data",
     "data": {
      "text/plain": "interactive(children=(FloatSlider(value=1.0, description='A', max=2.5, min=0.5), IntSlider(value=40, descripti…",
      "application/vnd.jupyter.widget-view+json": {
       "version_major": 2,
       "version_minor": 0,
       "model_id": "da516dc9c1774d49af44bd7f781387fe"
      }
     },
     "metadata": {}
    },
    {
     "output_type": "execute_result",
     "data": {
      "text/plain": [
       "<function __main__.many_arguments(A=1, w=40, LP=1)>"
      ]
     },
     "metadata": {},
     "execution_count": 15
    }
   ],
   "source": [
    "# popraw oś OX\n",
    "interact(many_arguments, A=(0.5,2.5,0.1),w=(0, 100,1),LP=(0.25,10,0.25))"
   ]
  },
  {
   "cell_type": "markdown",
   "metadata": {},
   "source": [
    "d) Podpisz osie obu wykresów, używając funkcji xlabel() i ylabel(). Pamiętaj o jednostkach. #DONE"
   ]
  },
  {
   "cell_type": "code",
   "execution_count": 27,
   "metadata": {
    "collapsed": true
   },
   "outputs": [
    {
     "output_type": "display_data",
     "data": {
      "text/plain": "interactive(children=(FloatSlider(value=1.0, description='A', max=2.5, min=0.5), IntSlider(value=40, descripti…",
      "application/vnd.jupyter.widget-view+json": {
       "version_major": 2,
       "version_minor": 0,
       "model_id": "3b85ac2c2d2249c58dbebd7f77a1465e"
      }
     },
     "metadata": {}
    },
    {
     "output_type": "execute_result",
     "data": {
      "text/plain": [
       "<function __main__.many_arguments(A=1, w=40, LP=1)>"
      ]
     },
     "metadata": {},
     "execution_count": 27
    }
   ],
   "source": [
    "# Podpisz osie wykresów\n",
    "interact(many_arguments, A=(0.5,2.5,0.1),w=(0, 100,1),LP=(0.25,10,0.25))\n"
   ]
  },
  {
   "cell_type": "markdown",
   "metadata": {},
   "source": [
    "f) Porównaj spektrum funkcji $sin(2*pi*f*t)$, $2*sin(2*pi*f*t)$ i $3*sin(2*pi*f*t)$. Jak zmienia się wartość na osi OY na wykresie spektrum?"
   ]
  },
  {
   "cell_type": "code",
   "execution_count": null,
   "metadata": {
    "collapsed": true
   },
   "outputs": [],
   "source": [
    "# f=1, A=1, LP=1"
   ]
  },
  {
   "cell_type": "code",
   "execution_count": null,
   "metadata": {
    "collapsed": true
   },
   "outputs": [],
   "source": [
    "# f=1, A=2, LP=1"
   ]
  },
  {
   "cell_type": "code",
   "execution_count": null,
   "metadata": {
    "collapsed": true,
    "scrolled": true
   },
   "outputs": [],
   "source": [
    "# f=1, A=3, LP=1"
   ]
  },
  {
   "cell_type": "markdown",
   "metadata": {},
   "source": [
    "g) Ile punktów jest na wykresach przy częstotliwości próbkowania 50Hz, T=1s? Zwiększ dwukrotnie liczbę próbek poprzez zwiększenie częstotliwości próbkowania. Następnie: dla $sin(2*pi*f*t)$ porównaj wartość na osi OY spektrum uzyskane w tym oraz poprzednim punkcie."
   ]
  },
  {
   "cell_type": "code",
   "execution_count": null,
   "metadata": {
    "collapsed": true
   },
   "outputs": [],
   "source": [
    "# f=1, w=50, LP=1"
   ]
  },
  {
   "cell_type": "code",
   "execution_count": null,
   "metadata": {
    "collapsed": true
   },
   "outputs": [],
   "source": [
    "# f=1, w=100, LP=1"
   ]
  },
  {
   "cell_type": "markdown",
   "metadata": {},
   "source": [
    "h) Na podstawie wyników uzyskanych w dwóch poprzednich punktach przeskaluj oś OY spektrum tak, aby wskazywała wartości amplitud badanych sygnałów. Sprawdź wyniki dla kilku wybranych funkcji."
   ]
  },
  {
   "cell_type": "code",
   "execution_count": null,
   "metadata": {
    "collapsed": true
   },
   "outputs": [],
   "source": [
    "# popraw oś OY"
   ]
  },
  {
   "cell_type": "markdown",
   "metadata": {},
   "source": [
    "# Zadanie 2"
   ]
  },
  {
   "cell_type": "markdown",
   "metadata": {},
   "source": [
    "a) Wygeneruj spektrum dla funkcji sinus o częstotliwościach 5Hz i 21Hz, dla czestotliwości próbkowania 20Hz i 20 (LP=20) analizowanych przebiegów. Czy rozpoznajesz te funkcje patrząc na ich spróbkowane wykresy? Odczytaj w drugim przypadku uzyskaną częstotliwość z FFT. Dlaczego uzyskano taki wynik?"
   ]
  },
  {
   "cell_type": "code",
   "execution_count": null,
   "metadata": {
    "collapsed": true
   },
   "outputs": [],
   "source": [
    "# f=5, w=20, LP=20"
   ]
  },
  {
   "cell_type": "code",
   "execution_count": null,
   "metadata": {
    "collapsed": true
   },
   "outputs": [],
   "source": [
    "# f=21, w=20, LP=20"
   ]
  },
  {
   "cell_type": "markdown",
   "metadata": {},
   "source": [
    "Zwróć uwagę, że spektrum jest symetryczne (poza pierwszym elementem)."
   ]
  },
  {
   "cell_type": "markdown",
   "metadata": {},
   "source": [
    "b) Przy w=100Hz, przeanalizuj widma sygnałów:"
   ]
  },
  {
   "cell_type": "markdown",
   "metadata": {},
   "source": [
    "i) $sin(2*pi*t*f)$, $f=10Hz$"
   ]
  },
  {
   "cell_type": "code",
   "execution_count": null,
   "metadata": {
    "collapsed": true
   },
   "outputs": [],
   "source": [
    "# f=10, w=100, A=1, LP=10"
   ]
  },
  {
   "cell_type": "markdown",
   "metadata": {},
   "source": [
    "ii) $sin(2*pi*t*f)$, $f=20Hz$"
   ]
  },
  {
   "cell_type": "code",
   "execution_count": null,
   "metadata": {
    "collapsed": true
   },
   "outputs": [],
   "source": [
    "# f=20, w=100, A=1, LP=10"
   ]
  },
  {
   "cell_type": "markdown",
   "metadata": {},
   "source": [
    "iii) $sin(2*pi*t*f)$, $f=30Hz$ (tutaj słupki nie będą wyglądać idealnie; dlaczego?)"
   ]
  },
  {
   "cell_type": "code",
   "execution_count": null,
   "metadata": {
    "collapsed": true
   },
   "outputs": [],
   "source": [
    "# f=30, w=100, A=1, LP=10"
   ]
  },
  {
   "cell_type": "markdown",
   "metadata": {},
   "source": [
    "iv) $sin(2*pi*t*f)$, $f=40Hz$"
   ]
  },
  {
   "cell_type": "code",
   "execution_count": null,
   "metadata": {
    "collapsed": true
   },
   "outputs": [],
   "source": [
    "# f=40, w=100, A=1, LP=10"
   ]
  },
  {
   "cell_type": "markdown",
   "metadata": {},
   "source": [
    "c) Przy F=50Hz, w=100Hz, wygeneruj spektrum dla $sin(2*pi*f*t)$. Zwróć uwagę na skalę wykresów."
   ]
  },
  {
   "cell_type": "code",
   "execution_count": null,
   "metadata": {
    "collapsed": true
   },
   "outputs": [],
   "source": [
    "# f=50, w=100, A=1, LP=10"
   ]
  },
  {
   "cell_type": "markdown",
   "metadata": {},
   "source": [
    "c) Jak się nazywa twierdzenie, którego konsekwencją jest takie zachowanie się spektrum?"
   ]
  },
  {
   "cell_type": "markdown",
   "metadata": {},
   "source": [
    "# Zadanie 3"
   ]
  },
  {
   "cell_type": "markdown",
   "metadata": {},
   "source": [
    "Poniższe przypadki skłądają się z złożonych sygnałów. Trzeba teraz będzie zmodyfikować trochę FUNC"
   ]
  },
  {
   "cell_type": "markdown",
   "metadata": {},
   "source": [
    "a) $sin(2*pi*t*f) + 2*sin(4*pi*t*f)$, T=1s, w=20Hz."
   ]
  },
  {
   "cell_type": "code",
   "execution_count": null,
   "metadata": {
    "collapsed": true
   },
   "outputs": [],
   "source": [
    "# Wyrysuj sygnał"
   ]
  },
  {
   "cell_type": "raw",
   "metadata": {},
   "source": [
    "c) Wygenerujemy trochę szumu. Wychodząc z funkcji sin(2*pi*t*f), dodamy do niej 100 losowych sinusów. Wygenerujemy dla nich losowo amplitudy (z [0.02, 0.08], częstotliwosci: [5.0, 10.0] oraz modyfikacje fazy[0 + 2*pi]. Inne parametry: w=20Hz, T=1s. Czy dla powyższych paramerów losowania, jesteś w stanie odnaleźć bazowy przebieg (sin(2*pi*t))? Czy jesteś w stanie zlokalizować szum?"
   ]
  },
  {
   "cell_type": "code",
   "execution_count": null,
   "metadata": {
    "collapsed": true
   },
   "outputs": [],
   "source": []
  },
  {
   "cell_type": "markdown",
   "metadata": {},
   "source": [
    "d) $0.5 + 2*sin(2*pi*t*f)$, T=1s, w=20Hz. Czy amplituda zerowego prążka jest prawidłowa? Dlaczego? (Podpowiedź: zwróć jeszcze raz uwagę na “symetrię” spektrum)."
   ]
  },
  {
   "cell_type": "code",
   "execution_count": null,
   "metadata": {
    "collapsed": true
   },
   "outputs": [],
   "source": [
    "# Wyrysuj sygnał\n"
   ]
  },
  {
   "cell_type": "markdown",
   "metadata": {},
   "source": [
    "e) $sin(2*pi*t*f)$ oraz $sin(2*pi*t*f + pi/4)$ dla T=1s, w=20Hz. Czy informacja o fazie zniknęła? Poszukaj śladów tej informacji w tablicy, będącej wynikiem operacji fft(signal). (funkcja angle(sygnal, deg=True)"
   ]
  },
  {
   "cell_type": "code",
   "execution_count": null,
   "metadata": {
    "collapsed": true
   },
   "outputs": [],
   "source": [
    "# faza = 0\n"
   ]
  },
  {
   "cell_type": "code",
   "execution_count": null,
   "metadata": {
    "collapsed": true
   },
   "outputs": [],
   "source": [
    "# faza = pi/4\n"
   ]
  },
  {
   "cell_type": "markdown",
   "metadata": {},
   "source": [
    "# Zadanie 4"
   ]
  },
  {
   "cell_type": "markdown",
   "metadata": {},
   "source": [
    "Oblicz wynik ifft(fft(x)), gdzie x=random.random(10). Czy jakaś informacja została stracona?"
   ]
  },
  {
   "cell_type": "code",
   "execution_count": null,
   "metadata": {
    "collapsed": true
   },
   "outputs": [],
   "source": [
    "# wygeneruj wektor x\n"
   ]
  },
  {
   "cell_type": "code",
   "execution_count": null,
   "metadata": {
    "collapsed": true
   },
   "outputs": [],
   "source": [
    "# oblicz fft z x\n"
   ]
  },
  {
   "cell_type": "code",
   "execution_count": null,
   "metadata": {
    "collapsed": true
   },
   "outputs": [],
   "source": [
    "# oblicz ifft"
   ]
  },
  {
   "cell_type": "code",
   "execution_count": null,
   "metadata": {
    "collapsed": true
   },
   "outputs": [],
   "source": [
    "#porownaj x z ifft(fft(x)), wystarczy print"
   ]
  },
  {
   "cell_type": "code",
   "execution_count": null,
   "metadata": {
    "collapsed": true
   },
   "outputs": [],
   "source": []
  }
 ],
 "metadata": {
  "kernelspec": {
   "display_name": "Python 3",
   "language": "python",
   "name": "python3"
  },
  "language_info": {
   "codemirror_mode": {
    "name": "ipython",
    "version": 3
   },
   "file_extension": ".py",
   "mimetype": "text/x-python",
   "name": "python",
   "nbconvert_exporter": "python",
   "pygments_lexer": "ipython3",
   "version": "3.8.5-final"
  }
 },
 "nbformat": 4,
 "nbformat_minor": 1
}